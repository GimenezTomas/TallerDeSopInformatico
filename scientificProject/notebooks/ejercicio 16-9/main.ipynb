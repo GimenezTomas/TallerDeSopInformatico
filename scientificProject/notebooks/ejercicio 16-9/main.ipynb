{
 "cells": [
  {
   "cell_type": "code",
   "execution_count": 2,
   "metadata": {
    "collapsed": true
   },
   "outputs": [
    {
     "name": "stdout",
     "output_type": "stream",
     "text": [
      "[<h3 class=\"c-card-event--athlete-results__headline\">Adesanya vs Vettori</h3>, <h3 class=\"c-card-event--athlete-results__headline\">Blachowicz vs Adesanya</h3>, <h3 class=\"c-card-event--athlete-results__headline\">Adesanya vs Costa</h3>]\n"
     ]
    }
   ],
   "source": [
    "\n",
    "import requests\n",
    "import pandas as pd\n",
    "from bs4 import BeautifulSoup\n",
    "\n",
    "def obtenerTexto(valor):\n",
    "    textos = []\n",
    "    for x in valor:\n",
    "        textos.append(x.getText())\n",
    "    return textos\n",
    "\n",
    "if __name__ == '__main__':\n",
    "\n",
    "    pagina = requests.get(\"https://www.ufcespanol.com/athlete/israel-adesanya\")\n",
    "\n",
    "    objeto_sopa = BeautifulSoup(pagina.content, 'html.parser')\n",
    "    listaDeObjetos = list(objeto_sopa.children)\n",
    "\n",
    "    peleadores = objeto_sopa.find_all('h3', class_='c-card-event--athlete-results__headline')\n",
    "    equipos= objeto_sopa.find_all('text', class_=\"c-card-event--athlete-results__number\",)\n",
    "    goles= objeto_sopa.find_all('time', class_=\"datetime\")\n",
    "\n",
    "    print(peleadores)\n",
    "    diccionario = {}\n",
    "    diccionario['peleadores'] = obtenerTexto(peleadores)\n",
    "    diccionario['evento'] = obtenerTexto(equipos)\n",
    "    diccionario['fecha'] = obtenerTexto(goles)\n",
    "\n",
    "    dataframe = pd.DataFrame(diccionario)\n",
    "\n",
    "    # método para crear un archivo csv\n",
    "\n",
    "    dataframe.to_csv(\"nuevo_dataset.csv\")\n",
    "\n",
    "    # documentación\n",
    "    # https://www.crummy.com/software/BeautifulSoup/bs4/doc/\n",
    "    # https://www.crummy.com/software/BeautifulSoup/bs4/doc/#kinds-of-objects"
   ]
  }
 ],
 "metadata": {
  "kernelspec": {
   "display_name": "Python 3",
   "language": "python",
   "name": "python3"
  },
  "language_info": {
   "codemirror_mode": {
    "name": "ipython",
    "version": 2
   },
   "file_extension": ".py",
   "mimetype": "text/x-python",
   "name": "python",
   "nbconvert_exporter": "python",
   "pygments_lexer": "ipython2",
   "version": "2.7.6"
  }
 },
 "nbformat": 4,
 "nbformat_minor": 0
}