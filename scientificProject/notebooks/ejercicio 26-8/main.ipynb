{
 "cells": [
  {
   "cell_type": "markdown",
   "source": [
    "1) ¿Cuál es la provincia que recibe una mayor reparación económica?"
   ],
   "metadata": {
    "collapsed": false
   }
  },
  {
   "cell_type": "code",
   "execution_count": null,
   "metadata": {
    "collapsed": true
   },
   "outputs": [],
   "source": [
    "data = pd.read_csv(\"../csv/reparaciónEconomica.csv\")\n",
    "\n",
    "x = data['provincia'].unique()\n",
    "y = data['¿Estudian o trabajan?'].loc[data['Edad']=='17 a 19'].value_counts().tolist()\n",
    "\n",
    "gf1.bar(x,y)\n",
    "gf1.title('Ocupación_menores_de_20')\n",
    "gf1.xlabel('Ocupación')\n",
    "gf1.ylabel('Cantidad de individuos')\n",
    "gf1.xticks(rotation=90,fontsize=12)\n",
    "gf1.show()\n",
    "\n"
   ]
  }
 ],
 "metadata": {
  "kernelspec": {
   "display_name": "Python 3",
   "language": "python",
   "name": "python3"
  },
  "language_info": {
   "codemirror_mode": {
    "name": "ipython",
    "version": 2
   },
   "file_extension": ".py",
   "mimetype": "text/x-python",
   "name": "python",
   "nbconvert_exporter": "python",
   "pygments_lexer": "ipython2",
   "version": "2.7.6"
  }
 },
 "nbformat": 4,
 "nbformat_minor": 0
}