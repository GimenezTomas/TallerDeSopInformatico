{
 "cells": [
  {
   "cell_type": "code",
   "execution_count": 9,
   "metadata": {
    "collapsed": true
   },
   "outputs": [
    {
     "name": "stdout",
     "output_type": "stream",
     "text": [
      "    Edad Altura   Peso  Promedio Sexo       LU   Observación \n",
      "0     25   1.80   83.0      7.79    h   125/89        ninguna\n",
      "1     21  1.89m   86.0      9.70    h    35 88        ninguna\n",
      "2     39   1.54   50.0      7.10    m   142-80   hipertension\n",
      "3     49   1.66   70.0      6.54    m   553/83        ninguna\n",
      "4     31   1.70   81.0      7.21    h   495-83  hiper tension\n",
      "5     33   1.74   93.0      7.10    h    25/78      sobrepeso\n",
      "6     29   1.81   82.5      6.90    h  445//81        ninguna\n",
      "7     19   1.82   86.3      8.43    h     5/84        ninguna\n",
      "8     20   1.76   75.0     10.00    m     1/81          gripe\n",
      "10    32   1.64   60.0      9.10    m   400-80        ninguna\n",
      "11    59   1.70   67.0      8.99   nb   100/89        ninguna\n",
      "13    49   1.78  432.0      7.41    h   500\\86   dolor cabeza\n",
      "14    51   1.77   75.0      9.10    h    25/85     hipertenso\n",
      "17    41   1.80    8.0      9.20    h   099/89     no hay obs\n",
      "19    28   1.68   68.0      7.54    m   145/81        ninguna\n"
     ]
    }
   ],
   "source": [
    "import pandas as pd\n",
    "import numpy as np\n",
    "\n",
    "def convertirEnMinusculas(valor):\n",
    "  if type(valor) == str:\n",
    "    return valor.lower()\n",
    "  else:\n",
    "    return valor\n",
    "\n",
    "def sexo(valor):\n",
    "   if type(valor) == str:\n",
    "       if valor != \"hombre\" and valor!=\"mujer\" and valor!=\"no binarie\" and valor != \"h\" and valor != \"m\" and valor != \"hom\" and valor != \"nb\":\n",
    "           return np.nan\n",
    "       else:\n",
    "           if \" \" in valor:\n",
    "             list = valor.split()\n",
    "             newspace = \"\"\n",
    "\n",
    "             for i in range(len(list)-1):\n",
    "                valor = list[i]\n",
    "                newspace += (valor[0])\n",
    "                newspace += list[-1][0]\n",
    "             return newspace\n",
    "\n",
    "           else:\n",
    "             return valor[0]\n",
    "   return valor\n",
    "\n",
    "def soloNumeros(valor):\n",
    "  l = \"\"\n",
    "  for t in valor.split():\n",
    "      try:\n",
    "          l = float(t)\n",
    "      except ValueError:\n",
    "        pass\n",
    "  return l\n",
    "\n",
    "def toNan(valor):\n",
    "    if valor == \"nan\":\n",
    "        valor = np.nan\n",
    "    return valor\n",
    "\n",
    "def aplicarCambios(dfAux):\n",
    "  dfAux = dfAux.applymap(convertirEnMinusculas)\n",
    "  dfAux['Sexo'] = dfAux['Sexo'].apply(sexo)\n",
    "  dfAux['Peso'] = dfAux['Peso'].apply(soloNumeros)\n",
    "  dfAux = dfAux.applymap(toNan)\n",
    "  dfAux.dropna(inplace = True)\n",
    "  return dfAux\n",
    "\n",
    "df = pd.read_csv(\"./datos.txt\",sep=\",\", skipinitialspace=True,engine=\"python\" )\n",
    "print(aplicarCambios(df))\n",
    "\n",
    "\n"
   ]
  }
 ],
 "metadata": {
  "kernelspec": {
   "display_name": "Python 3",
   "language": "python",
   "name": "python3"
  },
  "language_info": {
   "codemirror_mode": {
    "name": "ipython",
    "version": 2
   },
   "file_extension": ".py",
   "mimetype": "text/x-python",
   "name": "python",
   "nbconvert_exporter": "python",
   "pygments_lexer": "ipython2",
   "version": "2.7.6"
  }
 },
 "nbformat": 4,
 "nbformat_minor": 0
}