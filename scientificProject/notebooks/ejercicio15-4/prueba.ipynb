{
 "cells": [
  {
   "cell_type": "code",
   "execution_count": 1,
   "outputs": [
    {
     "name": "stdout",
     "output_type": "stream",
     "text": [
      "                   TIPO_TRANSPORTE PARCIAL   CANTIDAD\n",
      "DIA                                                  \n",
      "04MAR2021:00:00:00       Colectivo   False  2914400.0\n",
      "03MAR2021:00:00:00           Subte    True   226806.0\n",
      "04MAR2021:00:00:00           Subte   False   176444.0\n",
      "04MAR2021:00:00:00            Tren   False   630253.0\n",
      "17MAR2021:00:00:00       Colectivo   False  2836336.0\n",
      "...                            ...     ...        ...\n",
      "22MAR2021:00:00:00           Subte    True   255397.0\n",
      "23MAR2021:00:00:00            Tren   False   721922.0\n",
      "15APR2021:00:00:00       Colectivo   False  2566344.0\n",
      "14APR2021:00:00:00           Subte   False   202415.0\n",
      "15APR2021:00:00:00            Tren   False   531382.0\n",
      "\n",
      "[470 rows x 3 columns]\n",
      "['TIPO_TRANSPORTE', 'PARCIAL', 'CANTIDAD']\n",
      "DIA\n",
      "04MAR2021:00:00:00    Colectivo\n",
      "03MAR2021:00:00:00        Subte\n",
      "04MAR2021:00:00:00        Subte\n",
      "04MAR2021:00:00:00         Tren\n",
      "17MAR2021:00:00:00    Colectivo\n",
      "                        ...    \n",
      "22MAR2021:00:00:00        Subte\n",
      "23MAR2021:00:00:00         Tren\n",
      "15APR2021:00:00:00    Colectivo\n",
      "14APR2021:00:00:00        Subte\n",
      "15APR2021:00:00:00         Tren\n",
      "Name: TIPO_TRANSPORTE, Length: 470, dtype: object\n"
     ]
    }
   ],
   "source": [
    "import pandas as pd\n",
    "\n",
    "df = pd.read_csv(\"../csv/viajes.csv\")\n",
    "\n",
    "df.set_index('DIA', inplace=True)\n",
    "\n",
    "df.drop_duplicates(inplace=True)\n",
    "\n",
    "df.dropna(inplace = True)\n",
    "\n",
    "print(df)\n",
    "df.to_csv(\"../csv/viajes2.csv\")\n",
    "\n",
    "dfPrimeros300 = df.iloc[0:300]\n",
    "dfUltimos200 = df.iloc[-200:]\n",
    "\n",
    "dfPunto8 = df.iloc[[1,5,12,36]]\n",
    "\n",
    "print(list(df.columns))\n",
    "print(df['TIPO_TRANSPORTE'])\n"
   ],
   "metadata": {
    "collapsed": false,
    "pycharm": {
     "name": "#%% jupyter notebook --NotebookApp.iopub_data_rate_limit=1.0e10\n"
    }
   }
  }
 ],
 "metadata": {
  "kernelspec": {
   "display_name": "Python 3",
   "language": "python",
   "name": "python3"
  },
  "language_info": {
   "codemirror_mode": {
    "name": "ipython",
    "version": 2
   },
   "file_extension": ".py",
   "mimetype": "text/x-python",
   "name": "python",
   "nbconvert_exporter": "python",
   "pygments_lexer": "ipython2",
   "version": "2.7.6"
  }
 },
 "nbformat": 4,
 "nbformat_minor": 0
}