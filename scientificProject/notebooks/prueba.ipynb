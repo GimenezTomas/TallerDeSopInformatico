{
 "cells": [
  {
   "cell_type": "code",
   "execution_count": 26,
   "outputs": [
    {
     "name": "stdout",
     "output_type": "stream",
     "text": [
      "                   TIPO_TRANSPORTE PARCIAL   CANTIDAD\n",
      "DIA                                                  \n",
      "04MAR2021:00:00:00       Colectivo   False  2914400.0\n",
      "03MAR2021:00:00:00           Subte    True   226806.0\n",
      "04MAR2021:00:00:00           Subte   False   176444.0\n",
      "04MAR2021:00:00:00            Tren   False   630253.0\n",
      "17MAR2021:00:00:00       Colectivo   False  2836336.0\n",
      "...                            ...     ...        ...\n",
      "22MAR2021:00:00:00           Subte    True   255397.0\n",
      "23MAR2021:00:00:00            Tren   False   721922.0\n",
      "15APR2021:00:00:00       Colectivo   False  2566344.0\n",
      "14APR2021:00:00:00           Subte   False   202415.0\n",
      "15APR2021:00:00:00            Tren   False   531382.0\n",
      "\n",
      "[470 rows x 3 columns]\n"
     ]
    }
   ],
   "source": [
    "import pandas as pd\n",
    "\n",
    "df = pd.read_csv(\"viajes.csv\")\n",
    "\n",
    "df.set_index('DIA', inplace=True)\n",
    "\n",
    "df.drop_duplicates(inplace=True)\n",
    "\n",
    "df.dropna(inplace = True)\n",
    "\n",
    "print(df)\n",
    "df.to_csv(\"viajes2.csv\")"
   ],
   "metadata": {
    "collapsed": false,
    "pycharm": {
     "name": "#%% jupyter notebook --NotebookApp.iopub_data_rate_limit=1.0e10\n"
    }
   }
  },
  {
   "cell_type": "code",
   "execution_count": 31,
   "outputs": [
    {
     "name": "stdout",
     "output_type": "stream",
     "text": [
      "    TIPO_TRANSPORTE                 DIA PARCIAL  CANTIDAD\n",
      "0             Subte  31MAR2020:00:00:00     NaN       NaN\n",
      "1             Subte  01APR2020:00:00:00     NaN       NaN\n",
      "2             Subte  02APR2020:00:00:00     NaN       NaN\n",
      "3             Subte  03APR2020:00:00:00     NaN       NaN\n",
      "4             Subte  04APR2020:00:00:00     NaN       NaN\n",
      "..              ...                 ...     ...       ...\n",
      "296            Tren  14SEP2020:00:00:00     NaN       NaN\n",
      "297       Colectivo  15SEP2020:00:00:00     NaN       NaN\n",
      "298           Subte  14SEP2020:00:00:00     NaN       NaN\n",
      "299           Subte  15SEP2020:00:00:00     NaN       NaN\n",
      "300            Tren  15SEP2020:00:00:00     NaN       NaN\n",
      "\n",
      "[301 rows x 4 columns]\n",
      "     TIPO_TRANSPORTE                 DIA PARCIAL   CANTIDAD\n",
      "1188            Tren  02DEC2020:00:00:00   False   520595.0\n",
      "1189       Colectivo  07JAN2021:00:00:00   False  2269590.0\n",
      "1190            Tren  07JAN2021:00:00:00   False   520003.0\n",
      "1191       Colectivo  08JAN2021:00:00:00   False  2248256.0\n",
      "1192           Subte  07JAN2021:00:00:00    True   167593.0\n",
      "...              ...                 ...     ...        ...\n",
      "1383           Subte  22MAR2021:00:00:00    True   255397.0\n",
      "1384            Tren  23MAR2021:00:00:00   False   721922.0\n",
      "1385       Colectivo  15APR2021:00:00:00   False  2566344.0\n",
      "1386           Subte  14APR2021:00:00:00   False   202415.0\n",
      "1387            Tren  15APR2021:00:00:00   False   531382.0\n",
      "\n",
      "[200 rows x 4 columns]\n"
     ]
    }
   ],
   "source": [
    "df1  = pd.read_csv(\"viajes.csv\")\n",
    "print(df1.loc[0:300])\n",
    "print(df1.iloc[-200:])"
   ],
   "metadata": {
    "collapsed": false,
    "pycharm": {
     "name": "#%%\n"
    }
   }
  }
 ],
 "metadata": {
  "kernelspec": {
   "display_name": "Python 3",
   "language": "python",
   "name": "python3"
  },
  "language_info": {
   "codemirror_mode": {
    "name": "ipython",
    "version": 2
   },
   "file_extension": ".py",
   "mimetype": "text/x-python",
   "name": "python",
   "nbconvert_exporter": "python",
   "pygments_lexer": "ipython2",
   "version": "2.7.6"
  }
 },
 "nbformat": 4,
 "nbformat_minor": 0
}